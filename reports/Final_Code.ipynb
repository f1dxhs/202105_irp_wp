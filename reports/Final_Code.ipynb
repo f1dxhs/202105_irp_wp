{
  "nbformat": 4,
  "nbformat_minor": 0,
  "metadata": {
    "colab": {
      "name": "Final_Code.ipynb",
      "provenance": [],
      "collapsed_sections": []
    },
    "kernelspec": {
      "name": "python3",
      "display_name": "Python 3"
    },
    "language_info": {
      "name": "python"
    }
  },
  "cells": [
    {
      "cell_type": "markdown",
      "source": [
        "# Part1. Import and install Required Moudels. "
      ],
      "metadata": {
        "id": "ya1HSD5W7gEN"
      }
    },
    {
      "cell_type": "code",
      "source": [
        "!pip install fiona==1.8.20\n",
        "!pip install geojson==2.5.0\n",
        "!pip install shapely==1.8.0\n",
        "!pip install geopandas\n",
        "! pip install reverse_geocoder\n"
      ],
      "metadata": {
        "id": "J_enAOXR7owD"
      },
      "execution_count": null,
      "outputs": []
    },
    {
      "cell_type": "code",
      "source": [
        "from PIL import Image\n",
        "import numpy as np\n",
        "import matplotlib.pyplot as plt\n",
        "import ee\n",
        "import geopy\n",
        "import geopy.distance\n",
        "import fiona\n",
        "import geojson\n",
        "import shapely.ops as ops\n",
        "from shapely.geometry import Polygon\n",
        "import geopandas as gpd\n",
        "import reverse_geocoder\n"
      ],
      "metadata": {
        "id": "8gIe8YH078f2"
      },
      "execution_count": null,
      "outputs": []
    },
    {
      "cell_type": "code",
      "source": [
        "from google.colab import drive\n",
        "drive.mount('/content/drive')"
      ],
      "metadata": {
        "id": "hfNTLJk28QMJ"
      },
      "execution_count": null,
      "outputs": []
    },
    {
      "cell_type": "code",
      "source": [
        "# Trigger the authentication flow.\n",
        "ee.Authenticate()\n",
        "# Initialize the library.\n",
        "ee.Initialize()\n"
      ],
      "metadata": {
        "id": "n7rx3MY38PnH"
      },
      "execution_count": null,
      "outputs": []
    },
    {
      "cell_type": "markdown",
      "source": [
        "# Part2. Raw Data Extraction"
      ],
      "metadata": {
        "id": "HfDOsF3DALXH"
      }
    },
    {
      "cell_type": "markdown",
      "source": [
        "Extraction target area fire from altas fire dataset. \n",
        "Target area range from 32.7N to 42N, and -124.26W to -93.5W. \n",
        "Randomly dropped 70% small fire, which has duration less or equal than one day.  "
      ],
      "metadata": {
        "id": "UxQIgXyt8bt0"
      }
    },
    {
      "cell_type": "code",
      "source": [
        "\n",
        "# unzip original data file and store on target file\n",
        "path = \"drive/MyDrive/Wildfire/dataset/CMS_Global_Fire_Atlas_1642/data/\"\n",
        "destination_path = \"drive/MyDrive/Wildfire/dataset/CMS_Global_Fire_Atlas_1642/unzip_data/\"\n",
        "import zipfile\n",
        "import os\n",
        "import shutil\n",
        "\n",
        "def unzip_file(zip_file_name, destination_path):\n",
        "  archive = zipfile.ZipFile(zip_file_name, mode = 'r')\n",
        "  for file in archive.namelist():\n",
        "    archive.extract(file, destination_path)\n",
        "\n",
        "format_ = [\"zip\", 'rar', '7z']\n",
        "files = [i for i in os.listdir(path) if i.split(\".\")[-1] in format_]\n",
        "files.sort(reverse=False)\n",
        "print(files)\n",
        "    \n",
        "for file in files:\n",
        "    zip_file_name = path + file\n",
        "    print(zip_file_name)\n",
        "    unzip_file(zip_file_name,destination_path)\n"
      ],
      "metadata": {
        "id": "V8Z3qsFAAEdk"
      },
      "execution_count": null,
      "outputs": []
    },
    {
      "cell_type": "code",
      "source": [
        "#############################################################################\n",
        "\n",
        "max_xy = []\n",
        "min_xy = []\n",
        "coord_xy = []\n",
        "\n",
        "veg_max = []\n",
        "veg_min = []\n",
        "veg_coord = []\n",
        "expansion = []\n",
        "speed = []\n",
        "fire_line = []\n",
        "perimeter = []\n",
        "direction = []\n",
        "start_date = []\n",
        "end_date = []\n",
        "size = []\n",
        "duration = []\n",
        "\n",
        "for year in range(2003,2017):\n",
        "    print(year)\n",
        "    shapefile = gpd.read_file(\"drive/MyDrive/Wildfire/dataset/CMS_Global_Fire_Atlas_1642/unzip_data/Global_fire_atlas_V1_ignitions_\"+str(year)+\".shp\") \n",
        "    sf = np.array(shapefile)\n",
        "    for i in range(len(shapefile['geometry'])):\n",
        "        if i%100000 == 0:\n",
        "            print(i)\n",
        "        if (32.7<sf[i,1]<42) and (-124.26<sf[i,2]<-93.5):\n",
        "          if shapefile['duration'][i] <= 1:\n",
        "            ref_val = random.random()\n",
        "            if ref_val <= 0.3:\n",
        "              expansion.append(shapefile['expansion'][i])\n",
        "              perimeter.append(shapefile['perimeter'][i])\n",
        "              fire_line.append(shapefile['fire_line'][i])\n",
        "              speed.append(shapefile['speed'][i])\n",
        "              direction.append(shapefile['direction'][i])\n",
        "              start_date.append(shapefile['start_date'][i])\n",
        "              end_date.append(shapefile['end_date'][i])\n",
        "              duration.append(shapefile['duration'][i])\n",
        "              size.append(shapefile['duration'][i])\n",
        "\n",
        "              point = shapefile['geometry'][i]\n",
        "              \n",
        "              [y_coord, x_coord] = np.array(point)\n",
        "              # Define starting point.\n",
        "              start = geopy.Point(x_coord, y_coord)\n",
        "              \n",
        "              coord_xy.append([x_coord, y_coord])\n",
        "              d = geopy.distance.geodesic(kilometers = 30)\n",
        "              \n",
        "              envelop_x = []\n",
        "              envelop_y = []\n",
        "              \n",
        "              final_point = d.destination(point=start, bearing=0)\n",
        "              envelop_x.append(final_point[0])\n",
        "              envelop_y.append(final_point[1])\n",
        "              \n",
        "              final_point = d.destination(point=start, bearing=90)\n",
        "              envelop_x.append(final_point[0])\n",
        "              envelop_y.append(final_point[1])\n",
        "              \n",
        "              final_point = d.destination(point=start, bearing=180)\n",
        "              envelop_x.append(final_point[0])\n",
        "              envelop_y.append(final_point[1])\n",
        "              \n",
        "              final_point = d.destination(point=start, bearing=270)\n",
        "              envelop_x.append(final_point[0])\n",
        "              envelop_y.append(final_point[1])\n",
        "              \n",
        "              max_xy.append([max(envelop_x),max(envelop_y)])\n",
        "              min_xy.append([min(envelop_x),min(envelop_y)])\n",
        "\n",
        "          else:\n",
        "            expansion.append(shapefile['expansion'][i])\n",
        "            perimeter.append(shapefile['perimeter'][i])\n",
        "            fire_line.append(shapefile['fire_line'][i])\n",
        "            speed.append(shapefile['speed'][i])\n",
        "            direction.append(shapefile['direction'][i])\n",
        "            start_date.append(shapefile['start_date'][i])\n",
        "            end_date.append(shapefile['end_date'][i])\n",
        "            duration.append(shapefile['duration'][i])\n",
        "            size.append(shapefile['duration'][i])\n",
        "\n",
        "            point = shapefile['geometry'][i]\n",
        "            \n",
        "            [y_coord, x_coord] = np.array(point)\n",
        "            # Define starting point.\n",
        "            start = geopy.Point(x_coord, y_coord)\n",
        "            \n",
        "            coord_xy.append([x_coord, y_coord])\n",
        "            d = geopy.distance.geodesic(kilometers = 30)\n",
        "            \n",
        "            envelop_x = []\n",
        "            envelop_y = []\n",
        "            \n",
        "            final_point = d.destination(point=start, bearing=0)\n",
        "            envelop_x.append(final_point[0])\n",
        "            envelop_y.append(final_point[1])\n",
        "            \n",
        "            final_point = d.destination(point=start, bearing=90)\n",
        "            envelop_x.append(final_point[0])\n",
        "            envelop_y.append(final_point[1])\n",
        "            \n",
        "            final_point = d.destination(point=start, bearing=180)\n",
        "            envelop_x.append(final_point[0])\n",
        "            envelop_y.append(final_point[1])\n",
        "            \n",
        "            final_point = d.destination(point=start, bearing=270)\n",
        "            envelop_x.append(final_point[0])\n",
        "            envelop_y.append(final_point[1])\n",
        "            \n",
        "            max_xy.append([max(envelop_x),max(envelop_y)])\n",
        "            min_xy.append([min(envelop_x),min(envelop_y)])\n",
        "\n",
        "          \n",
        "np.save(\"drive/MyDrive/New_Wildfire/Newdata/veg_coord.npy\",coord_xy)\n",
        "np.save('drive/MyDrive/New_Wildfire/Newdata/veg_max.npy',max_xy)  \n",
        "np.save('drive/MyDrive/New_Wildfire/Newdata/veg_min.npy',min_xy) \n",
        "np.save('drive/MyDrive/New_Wildfire/Newdata/duration_atlas_2003_2016.npy',duration)\n",
        "np.save('drive/MyDrive/New_Wildfire/Newdata/start_date_atlas_2003_2016.npy',start_date)\n",
        "np.save('drive/MyDrive/New_Wildfire/Newdata/size_atlas_2003_2016.npy',size)\n",
        "np.save('drive/MyDrive/New_Wildfire/Newdata/start_date_atlas_2003_2016.npy',end_date)\n",
        "np.save('drive/MyDrive/New_Wildfire/Newdata/perimeter_atlas_2003_2016.npy', perimeter)\n",
        "np.save('drive/MyDrive/New_Wildfire/Newdata/expansion_atlas_2003_2016.npy', expansion)\n",
        "np.save('drive/MyDrive/New_Wildfire/Newdata/fire_line_atlas_2003_2016.npy', fire_line)\n",
        "np.save('drive/MyDrive/New_Wildfire/Newdata/speed_atlas_2003_2016.npy', speed)\n",
        "np.save('drive/MyDrive/New_Wildfire/Newdata/direction_atlas_2003_2016.npy', direction)\n",
        "\n"
      ],
      "metadata": {
        "id": "zMPWfcah8TcU"
      },
      "execution_count": null,
      "outputs": []
    },
    {
      "cell_type": "markdown",
      "source": [
        "Extraction feature map from dataset, via Google Earth Engine "
      ],
      "metadata": {
        "id": "mKIYqYMD_Xbs"
      }
    },
    {
      "cell_type": "code",
      "source": [
        "\n",
        "def feature_extration_timed(ee_path, feature_name, save_path, length):\n",
        "  import time\n",
        "  import datetime\n",
        "  for i in range(n):\n",
        "      if i % 100 == 0:\n",
        "        print(i)\n",
        "      lst = ee.ImageCollection(ee_path)\n",
        "      i_date = start_date[i]\n",
        "      dt = datetime.datetime.strptime(i_date, '%Y-%m-%d')\n",
        "      i_date = str(dt.year)+'-'+\"{:02d}\".format(dt.month)+'-'+\"{:02d}\".format(1)\n",
        "      dt = datetime.datetime.strptime(i_date, '%Y-%m-%d')\n",
        "      time_period = int(duration[i])\n",
        "      ft = dt+datetime.timedelta(days= time_period)\n",
        "      f_date = str(ft.year)+'-'+\"{:02d}\".format(ft.month)+'-'+\"{:02d}\".format(ft.day)\n",
        "      lst = lst.select([feature_name]).filterDate(i_date, f_date)\n",
        "      collectionList = lst.toList(lst.size())\n",
        "      collectionSize = collectionList.size().getInfo()\n",
        "      image = ee.Image(collectionList.get(0))\n",
        "      img = image\n",
        "      #aoi=ee.Geometry.BBox(0,-40,20,-30)\n",
        "      aoi=ee.Geometry.BBox(veg_min[i,1],veg_min[i,0],veg_max[i,1],veg_max[i,0])\n",
        "      task = ee.batch.Export.image.toDrive(img,                                              \n",
        "      description=save_path+str(i),\n",
        "      folder = save_path,\n",
        "      fileFormat='GeoTIFF',\n",
        "      region=aoi)\n",
        "      task.start()\n",
        "      time.sleep(7)\n",
        "      print(task.status())\n",
        "\n",
        "\n",
        "\n",
        "\n",
        "def feature_extration(ee_path, feature_name, save_path, length):\n",
        "  import time\n",
        "  import datetime\n",
        "  for i in range(n):\n",
        "      if i % 100 == 0:\n",
        "        print(i)\n",
        "      lst = ee.ImageCollection(ee_path)\n",
        "      lst = lst.select([feature_name])\n",
        "      collectionList = lst.toList(lst.size())\n",
        "      collectionSize = collectionList.size().getInfo()\n",
        "      image = ee.Image(collectionList.get(0))\n",
        "      img = image\n",
        "      #aoi=ee.Geometry.BBox(0,-40,20,-30)\n",
        "      aoi=ee.Geometry.BBox(veg_min[i,1],veg_min[i,0],veg_max[i,1],veg_max[i,0])\n",
        "      task = ee.batch.Export.image.toDrive(img,                                              \n",
        "      description=save_path+str(i),\n",
        "         folder = save_path,\n",
        "      fileFormat='GeoTIFF',\n",
        "      region=aoi)\n",
        "      task.start()\n",
        "      time.sleep(10)\n",
        "      print(task.status())"
      ],
      "metadata": {
        "id": "iHCfu4UD_WC8"
      },
      "execution_count": null,
      "outputs": []
    },
    {
      "cell_type": "code",
      "source": [
        "# extract required data image\n",
        "# feature_extration(\"NASA/ORNL/biomass_carbon_density/v1\", \"agb\",\"new_agb\",n)\n",
        "# feature_extration(\"NASA/ORNL/biomass_carbon_density/v1\", 'bgb',\"new_bgb\",n)\n",
        "# feature_extration(\"CSP/ERGo/1_0/Global/ALOS_mTPI\", 'AVE','new_slope', n)\n",
        "# feature_extration(\"COPERNICUS/Landcover/100m/Proba-V-C3/Global\", 'tree-coverfraction', 'new_tree_cover',n)\n",
        "# feature_extration(\"COPERNICUS/Landcover/100m/Proba-V-C3/Global\", 'grass-coverfraction', 'new_grass_cover',n)\n",
        "# feature_extration(\"COPERNICUS/Landcover/100m/Proba-V-C3/Global\", 'snow-coverfraction', 'new_snow_cover',n)\n",
        "# feature_extration(\"COPERNICUS/Landcover/100m/Proba-V-C3/Global\", 'bare-coverfraction', 'new_bare_cover',n)\n",
        "# feature_extration(\"COPERNICUS/Landcover/100m/Proba-V-C3/Global\", 'water-permanent-coverfraction', 'new_water_cover',n)\n",
        "# feature_extration_timed(\"ECMWF/ERA5/MONTHLY\", 'u_component_of_wind_10m', 'new_wind_u',n)\n",
        "# feature_extration_timed(\"ECMWF/ERA5/MONTHLY\", 'v_component_of_wind_10m', 'new_wind_v',n)\n",
        "# feature_extration_timed(\"ECMWF/ERA5/MONTHLY\", 'total_precipitation', 'new_precipitation',n)"
      ],
      "metadata": {
        "id": "bzKbNM6A_mXT"
      },
      "execution_count": null,
      "outputs": []
    },
    {
      "cell_type": "markdown",
      "source": [
        "# Part3. Load data and resize feature map"
      ],
      "metadata": {
        "id": "vob8_XBTAocE"
      }
    },
    {
      "cell_type": "markdown",
      "source": [
        "Perparing function"
      ],
      "metadata": {
        "id": "cgGHgLQR19Rj"
      }
    },
    {
      "cell_type": "code",
      "source": [
        "def get_data(path, savepath, range):\n",
        "  Target_data = []\n",
        "  n = len(duration)\n",
        "  for i in range(24000):\n",
        "    if i % 100 == 0:\n",
        "      print(i)\n",
        "    target_img = Image.open(Image.open('drive/MyDrive/'+ str(path) + '/' + str(path) '+str(i)+'.tif'))\n",
        "    target_img = np.array(target_img)\n",
        "    mid_point_x = int(target_img.shape[0]/2)\n",
        "    mid_point_y = int(target_img.shape[1]/2)\n",
        "    target_img = target_img([mid_point_x - range: mid_point_x + range, mid_point_y - range: mid_point_y + range])\n",
        "    Target_data.append(target_img)\n",
        "  np.save(savepath, Target_data)"
      ],
      "metadata": {
        "id": "7kyuLb-cm6aW"
      },
      "execution_count": null,
      "outputs": []
    },
    {
      "cell_type": "code",
      "source": [
        "\n",
        "def data_processing(df,sizex,sizey):\n",
        "  train_data = []\n",
        "  test_data = []\n",
        "  n = len(df)\n",
        "  for i in range(3500):\n",
        "    train_data.append(df[i])\n",
        "  for i in range(3500, 4500):\n",
        "    test_data.append(df[i])\n",
        "  train_data = np.array(train_data)\n",
        "  train_data = Standrize(train_data)\n",
        "  train_data = np.reshape(train_data, (3500, sizex, sizey, 1))\n",
        "  test_data = np.array(test_data)\n",
        "  test_data = Standrize(test_data)\n",
        "  test_data = np.reshape(test_data, (1000, sizex, sizey, 1))\n",
        "  return train_data, test_data\n",
        "def Standrize(X):\n",
        "  # X = (X-X.mean())/X.std()\n",
        "  # X = X/X.max()\n",
        "  X = (X - X.min())/(X.max() - X.min())\n",
        "  return X"
      ],
      "metadata": {
        "id": "wHkdnRtY10BA"
      },
      "execution_count": null,
      "outputs": []
    },
    {
      "cell_type": "markdown",
      "source": [
        "# Part4. Regression Model"
      ],
      "metadata": {
        "id": "FNp5J6Vu2DP2"
      }
    },
    {
      "cell_type": "code",
      "source": [
        "def Standrize(X):\n",
        "  X = (X-X.mean())/X.std()\n",
        "  # X = X/X.max()\n",
        "  return X\n",
        "\n",
        "def Ls_Data_Process(path):\n",
        "  Dataset = pd.read_csv(path)\n",
        "  Data_Cleaned = Dataset.fillna(0)\n",
        "  index_ = 19120\n",
        "  # index_ = len(Data_Cleaned.loc[Data_Cleaned['Start_Date'] < '2013-12-30']) - 1\n",
        "  X_train = Data_Cleaned.iloc[:index_, 2:7]\n",
        "  X_test = Data_Cleaned.iloc[index_:, 2:7]\n",
        "  # X_set = pd.DataFrame(Data_Cleaned, columns = ['Tree_cover', 'wind_u' ])\n",
        "  # X_train = X_set.iloc[:index]\n",
        "  # X_test = X_set.iloc[index:]\n",
        "  y_train = Data_Cleaned.iloc[:index_, -2:-1]\n",
        "  y_test = Data_Cleaned.iloc[index_:, -2:-1]\n",
        "  X_train, X_test = Standrize(X_train), Standrize(X_test)\n",
        "  return X_train, X_test, y_train, y_test\n",
        "\n",
        "\n",
        "def probility_plot(y_test, y_pred, model_name):\n",
        "  prob = []\n",
        "  i_ = []\n",
        "  total = len(y_test)\n",
        "  for i in range(30):\n",
        "    count = 0\n",
        "    for j in range(len(y_test)):\n",
        "      if y_test[j] >=i and y_pred[j] >= i:\n",
        "        count += 1\n",
        "      if y_test[j] <=i and y_pred[j] <= i:\n",
        "        count += 1\n",
        "    prob_i = count/total\n",
        "    prob.append(prob_i)\n",
        "    i_.append(i)\n",
        "  print(min(prob))\n",
        "  plt.figure()\n",
        "  plt.xlabel('Days', fontsize = 15)\n",
        "  plt.ylabel('Accuracy', fontsize = 15)\n",
        "  plt.plot(i_, prob)\n",
        "  plt.grid(ls='--')\n",
        "  plt.ylim(0.5, 1)\n",
        "  # plt.title(mod)\n",
        "  plt.title(model_name, fontsize = 15)"
      ],
      "metadata": {
        "id": "Pe9m1w_02GGJ"
      },
      "execution_count": null,
      "outputs": []
    },
    {
      "cell_type": "code",
      "source": [
        "from sklearn import linear_model\n",
        "import matplotlib.pyplot as plt \n",
        "from xgboost import XGBRegressor\n",
        "from sklearn.metrics import mean_squared_error\n",
        "from sklearn.ensemble import RandomForestRegressor\n",
        "from sklearn.neighbors import KNeighborsRegressor\n",
        "from sklearn.metrics import r2_score\n",
        "from sklearn.linear_model import Ridge\n",
        "\n",
        "def Train_model(X,y):\n",
        "\n",
        "  # lin_reg= linear_model.LinearRegression() \n",
        "  # lin_reg = Ridge(alpha=1, solver='cholesky')\n",
        "  # lin_reg.fit(X_train, y_train)\n",
        "  # y_pred = lin_reg.predict(X)\n",
        "  # lin_mse = mean_squared_error(y, y_pred)\n",
        "  # lin_rmse = np.sqrt(lin_mse)\n",
        "  # r2_lr = r2_score(y, y_pred)\n",
        "  # # score_sr = lin_reg.score(X_test,y_test)\n",
        "  # plt.figure(1500)\n",
        "  # plt.subplot(221)\n",
        "  # plt.scatter(y,y)\n",
        "  # plt.plot(y_pred,y, 'ro')\n",
        "  # plt.xlabel('Predict Value')\n",
        "  # plt.grid(ls='--')\n",
        "  # plt.ylabel('True Value')\n",
        "  # plt.title('Linear , mse = %.*f'%(3,lin_mse))\n",
        "\n",
        "  # plt.plot(y_test,y_test, 'r')\n",
        "\n",
        "\n",
        "  # RandomForest\n",
        "  rf = RandomForestRegressor(n_estimators = 100, max_depth=5)\n",
        "  rf.fit(X_train, y_train)\n",
        "  y_pred_rf = rf.predict(X)\n",
        "  rf_mse = mean_squared_error(y, y_pred_rf)\n",
        "  rf_rmse = np.sqrt(rf_mse)\n",
        "  r2_rf = r2_score(y,y_pred_rf)\n",
        "  plt.plot(y,y, linewidth=2.5, zorder = 2)\n",
        "  plt.plot(y_pred_rf, y, 'ro', zorder = 1)\n",
        "  plt.xlabel('Predict Value', fontsize = 15)\n",
        "  plt.grid(ls='--')\n",
        "  plt.ylabel('True Value', fontsize = 15)\n",
        "  plt.title('RF', fontsize = 15)\n",
        "  plt.savefig('drive/MyDrive/sr_fig/rf_prediction_plot.png', dpi = 500)\n",
        "  plt.show()\n",
        "\n",
        "  # KNN\n",
        "  knn = KNeighborsRegressor(n_neighbors = 10)\n",
        "  model_knn=knn.fit(X_train,y_train)\n",
        "  y_pred_knn = knn.predict(X)\n",
        "  knn_mse = mean_squared_error(y, y_pred_knn)\n",
        "  knn_rmse = np.sqrt(knn_mse)\n",
        "  r2_knn = r2_score(y,y_pred_knn)\n",
        "  plt.plot(y,y, linewidth=2.5, zorder = 2)\n",
        "  plt.plot(y_pred_knn, y, 'ro', zorder = 1)\n",
        "  plt.xlabel('Predict Value', fontsize = 15)\n",
        "  plt.grid(ls='--')\n",
        "  plt.ylabel('True Value', fontsize = 15)\n",
        "  plt.title('KNN', fontsize = 15)\n",
        "  plt.savefig('drive/MyDrive/sr_fig/knn_prediction_plot.png', dpi = 500)\n",
        "  plt.show()\n",
        "\n",
        "  # XGBoost\n",
        "  XGB_model = XGBRegressor(objective='reg:squarederror', n_estimators = 100, max_depth = 5)\n",
        "\n",
        "  XGB_model.fit(X_train, y_train)\n",
        "  y_pred_xgb = XGB_model.predict(X)\n",
        "  xgb_mse = mean_squared_error(y, y_pred_xgb)\n",
        "  xgb_rmse = np.sqrt(xgb_mse)\n",
        "  r2_xgb = r2_score(y,y_pred_xgb)\n",
        "  plt.plot(y, y, linewidth=2.5, zorder = 2)\n",
        "  plt.plot(y_pred_xgb, y, 'ro', zorder = 1)\n",
        "  plt.xlabel('Predict Value', fontsize = 15)\n",
        "  plt.grid(ls='--')\n",
        "  plt.ylabel('True Value', fontsize = 15)\n",
        "  plt.title('XGBoost', fontsize = 15)\n",
        "  plt.savefig('drive/MyDrive/sr_fig/xgboost_prediction_plot.png', dpi = 500)\n",
        "  plt.show()\n",
        "\n",
        "  # plt.figure()\n",
        "  # plt.subplot(221)\n",
        "  # probility_plot(y, y_pred, 'linear')\n",
        "  \n",
        "\n",
        "  probility_plot(y, y_pred_rf, 'RF')\n",
        "  plt.savefig('drive/MyDrive/sr_fig/rf_Accuracy_Plot.png', dpi = 500)\n",
        "\n",
        "  probility_plot(y, y_pred_knn, 'KNN')\n",
        "  plt.savefig('drive/MyDrive/sr_fig/knn_Accuracy_Plot.png', dpi = 500)\n",
        "\n",
        "  probility_plot(y, y_pred_xgb, 'XGBoost')\n",
        "  plt.savefig('drive/MyDrive/sr_fig/xgboost_Accuracy_Plot.png', dpi = 500)\n",
        "\n",
        "  plt.show()\n",
        "  print(rf_rmse, knn_rmse, xgb_rmse)\n",
        "  print(r2_rf, r2_knn, r2_xgb)\n",
        "\n",
        "  # plt.figure()\n",
        "  # plt.subplot(211)\n",
        "  # # ax2 = fig2.subplots()\n",
        "  # plt.bar(range(len(rf.feature_importances_)), rf.feature_importances_)\n",
        "  # feature_name = ['Grass_Cover', 'Tree_Cover', 'Slope', 'Wind_u', 'Wind_v']\n",
        "  # plt.xticks(range(len(rf.feature_importances_)),feature_name)\n",
        "  # plt.xlabel('feature')\n",
        "  # plt.ylabel('feature importance value')\n",
        "  # plt.title('feature importance of random forest')\n",
        "\n",
        "  # # print(rf.feature_importances_)\n",
        "  # plt.subplot(212)\n",
        "  # plt.bar(range(len(XGB_model.feature_importances_)), XGB_model.feature_importances_)\n",
        "  # feature_name = ['Grass_Cover', 'Tree_Cover', 'Slope', 'Wind_u', 'Wind_v']\n",
        "  # plt.xticks(range(len(XGB_model.feature_importances_)),feature_name)\n",
        "  # plt.xlabel('feature')\n",
        "  # plt.ylabel('feature importance value')\n",
        "  # plt.title('feature importance of xgboost')\n",
        "\n",
        "\n",
        "\n",
        "\n",
        "  # r2_lr = r2_score(y, y_pred)\n",
        "  # r2_rf = r2_score(y,y_pred_rf)\n",
        "  # r2_knn = r2_score(y,y_pred_knn)\n",
        "  # r2_xgb = r2_score(y,y_pred_xgb)\n",
        "  # print(r2_lr,r2_rf,r2_knn,r2_xgb)\n",
        "  # print(XGB_model.feature_importances_)\n",
        "  # pyplot.show()\n",
        "\n",
        "  # plt.savefig('drive/MyDrive/sr_fig/result_fig_'+str(distance)+'km.jpg')\n",
        "  # plt.tight_layout()\n",
        "  # plt.savefig('drive/MyDrive/sr_fig/Feature_importance_plot.png', dpi = 500)\n",
        "  # plt.savefig('drive/MyDrive/sr_fig/test_feature_importance_'+str(distance)+'km.jpg')\n",
        "  # plt.show()\n",
        "  \n",
        "\n",
        "\n",
        "\n",
        "  return rf_rmse, knn_rmse,  xgb_rmse, r2_rf, r2_knn, r2_xgb"
      ],
      "metadata": {
        "id": "xbPd9O8D2Qrs"
      },
      "execution_count": null,
      "outputs": []
    },
    {
      "cell_type": "code",
      "source": [
        "distance = 30\n",
        "path = 'drive/MyDrive/New_Wildfire/Model_Input/LS_fire_' + str(distance)+'km.csv'\n",
        "X_train, X_test, y_train, y_test = Ls_Data_Process(path)\n",
        "X_train, y_train, X_test, y_test= np.array(X_train), np.array(y_train), np.array(X_test), np.array(y_test)\n",
        "Train_model(X_test, y_test)\n",
        "\n",
        "# print(len(X_train), len(X_test))"
      ],
      "metadata": {
        "id": "pmWj1uxl2l2K",
        "colab": {
          "base_uri": "https://localhost:8080/",
          "height": 1000
        },
        "outputId": "1ee7c7fb-ec69-42ad-a9ae-90a4b46fdbc3"
      },
      "execution_count": null,
      "outputs": [
        {
          "output_type": "stream",
          "name": "stderr",
          "text": [
            "/usr/local/lib/python3.7/dist-packages/ipykernel_launcher.py:34: DataConversionWarning: A column-vector y was passed when a 1d array was expected. Please change the shape of y to (n_samples,), for example using ravel().\n"
          ]
        },
        {
          "output_type": "display_data",
          "data": {
            "text/plain": [
              "<Figure size 432x288 with 1 Axes>"
            ],
            "image/png": "[encoded data removed]"
          },
          "metadata": {
            "needs_background": "light"
          }
        },
        {
          "output_type": "display_data",
          "data": {
            "text/plain": [
              "<Figure size 432x288 with 1 Axes>"
            ],
            "image/png": "[encoded data removed]"
          },
          "metadata": {
            "needs_background": "light"
          }
        },
        {
          "output_type": "display_data",
          "data": {
            "text/plain": [
              "<Figure size 432x288 with 1 Axes>"
            ],
            "image/png": "[encoded data removed]"
          },
          "metadata": {
            "needs_background": "light"
          }
        },
        {
          "output_type": "stream",
          "name": "stdout",
          "text": [
            "0.5360655737704918\n",
            "0.5721311475409836\n",
            "0.5354508196721312\n"
          ]
        },
        {
          "output_type": "display_data",
          "data": {
            "text/plain": [
              "<Figure size 432x288 with 1 Axes>"
            ],
            "image/png": "[encoded data removed]"
          },
          "metadata": {
            "needs_background": "light"
          }
        },
        {
          "output_type": "display_data",
          "data": {
            "text/plain": [
              "<Figure size 432x288 with 1 Axes>"
            ],
            "image/png": "[encoded data removed]"
          },
          "metadata": {
            "needs_background": "light"
          }
        },
        {
          "output_type": "display_data",
          "data": {
            "text/plain": [
              "<Figure size 432x288 with 1 Axes>"
            ],
            "image/png": "[encoded data removed]"
          },
          "metadata": {
            "needs_background": "light"
          }
        },
        {
          "output_type": "stream",
          "name": "stdout",
          "text": [
            "4.989651134326586 5.264299807098413 5.055632131740037\n",
            "0.07338280090711646 -0.031433476958955486 0.048714396603715016\n"
          ]
        },
        {
          "output_type": "execute_result",
          "data": {
            "text/plain": [
              "(4.989651134326586,\n",
              " 5.264299807098413,\n",
              " 5.055632131740037,\n",
              " 0.07338280090711646,\n",
              " -0.031433476958955486,\n",
              " 0.048714396603715016)"
            ]
          },
          "metadata": {},
          "execution_count": 21
        }
      ]
    },
    {
      "cell_type": "markdown",
      "source": [
        "# Part5. Image-based Model"
      ],
      "metadata": {
        "id": "GUw4g-m_2poM"
      }
    },
    {
      "cell_type": "code",
      "source": [
        "import matplotlib.pyplot as plt\n",
        "import torch\n",
        "import torch.nn as nn\n",
        "import torch.nn.functional as F\n",
        "import os\n",
        "import random\n",
        "import numpy as np\n",
        "from tqdm.notebook import tqdm\n",
        "from torchvision import datasets, transforms, models \n",
        "from torchvision.datasets import ImageFolder\n",
        "from torchvision.transforms import ToTensor\n",
        "from torchvision.utils import make_grid\n",
        "from torch.utils.data import random_split\n",
        "from torch.utils.data.dataloader import DataLoader\n",
        "import matplotlib.pyplot as plt\n",
        "import matplotlib.image as mpimage\n",
        "from tqdm import tqdm\n",
        "from PIL import Image\n",
        "import cv2\n",
        "import pandas as pd\n",
        "\n",
        "import keras\n",
        "from keras import layers\n",
        "from keras.callbacks import TensorBoard\n",
        "from sklearn.decomposition import PCA\n",
        "from sklearn.metrics import mean_squared_error, r2_score\n",
        "from keras.layers import Input, Dense, Flatten, Reshape, LeakyReLU\n",
        "from keras.models import Model\n",
        "from numpy import array\n",
        "from numpy import hstack\n",
        "from keras.layers import LSTM\n",
        "from keras.layers import Input, Dense\n",
        "from keras import losses\n",
        "import tensorflow as tf\n",
        "from keras.layers import Concatenate\n",
        "from keras.models import Sequential\n",
        "from sklearn.model_selection import GridSearchCV"
      ],
      "metadata": {
        "id": "cfQoJdvb2uId"
      },
      "execution_count": null,
      "outputs": []
    },
    {
      "cell_type": "code",
      "source": [
        "device = 'cpu'\n",
        "if torch.cuda.device_count() > 0 and torch.cuda.is_available():\n",
        "    print(\"Cuda installed! Running on GPU!\")\n",
        "    device = 'cuda'\n",
        "else:\n",
        "    print(\"No GPU available!\")"
      ],
      "metadata": {
        "id": "qaUs4e8tko_T"
      },
      "execution_count": null,
      "outputs": []
    },
    {
      "cell_type": "markdown",
      "source": [
        "Load input"
      ],
      "metadata": {
        "id": "r-tvLT04oSQA"
      }
    },
    {
      "cell_type": "code",
      "source": [
        "duration = np.load('drive/MyDrive/Wildfire/CA_fire/CA_fire_data/duration_atlas_2003_2016.npy')\n",
        "start_date = np.load('drive/MyDrive/Wildfire/CA_fire/CA_fire_data/start_date_atlas_2003_2016.npy')\n",
        "veg_coord = np.load('drive/MyDrive/Wildfire/CA_fire/CA_fire_data/veg_coord.npy')\n",
        "end_date = np.load('drive/MyDrive/Wildfire/CA_fire/CA_fire_data/end_date_atlas_2003_2016.npy')\n",
        "fire_size = np.load('drive/MyDrive/Wildfire/CA_fire/CA_fire_data/size_atlas_2003_2016.npy')\n",
        "# input dataset\n",
        "\n",
        "resized_gc_5km = np.load('drive/MyDrive/New_Wildfire/Newdata/ls_CNN_gc_resized.npy')\n",
        "resized_tc_5km = np.load('drive/MyDrive/New_Wildfire/Newdata/ls_CNN_tc_resized.npy')\n",
        "resized_slope_5km = np.load('drive/MyDrive/New_Wildfire/Newdata/ls_CNN_slope_resized.npy')\n",
        "\n",
        "resized_combined_5km_3channel = np.load('drive/MyDrive/New_wildfire/Newdata/ls_resized_100.npy') # put three map in different channel\n",
        "\n",
        "cropped_gc_5km = np.load('drive/MyDrive/New_Wildfire/Newdata/ls_grass_cover_5km.npy')\n",
        "cropped_tc_5km = np.load('drive/MyDrive/New_Wildfire/Newdata/ls_tree_cover_5km.npy')\n",
        "cropped_slope_5km = np.load('drive/MyDrive/New_Wildfire/Newdata/ls_tree_slope_5km.npy')\n"
      ],
      "metadata": {
        "id": "NtEGVSgQoQcq"
      },
      "execution_count": null,
      "outputs": []
    },
    {
      "cell_type": "code",
      "source": [
        "\n",
        "y_train = duration[0:20000]\n",
        "y_test = duration[20000:24000]\n",
        "\n"
      ],
      "metadata": {
        "id": "1HtYhf5arR_E"
      },
      "execution_count": null,
      "outputs": []
    },
    {
      "cell_type": "markdown",
      "source": [
        "## AutoEncoder Process"
      ],
      "metadata": {
        "id": "ojSJjFkZnPGq"
      }
    },
    {
      "cell_type": "code",
      "source": [
        "def my_encoder_model(input_img):\n",
        "  act_f = str(\"relu\") # relu\n",
        "  # encoder structure\n",
        "  x = layers.Conv2D(32, (10, 10), activation= act_f, padding='same')(input_img) #conv layer\n",
        "  x = layers.MaxPooling2D((2, 2), padding='same')(x)\n",
        "  x = layers.Conv2D(16, (10, 10), activation= act_f, padding='same')(x)\n",
        "  x = layers.MaxPooling2D((2, 2), padding='same')(x)\n",
        "  x = layers.Conv2D(16, (10, 10), activation= act_f, padding='same')(x)\n",
        "  x = layers.MaxPooling2D((2, 2), padding='same')(x)\n",
        "\n",
        "  x = Flatten()(x)\n",
        "  x = LeakyReLU(alpha=0.3)(x)\n",
        "  x = Dense(169, activation= act_f)(x)\n",
        "  x = LeakyReLU(alpha=0.3)(x)\n",
        "  encoded = Dense(20, activation= act_f)(x)\n",
        "\n",
        "  return encoded\n",
        "\n",
        "def my_decoder_model(encoded):\n",
        "  act_f = str(\"relu\") # relu\n",
        "  # decoder structure\n",
        "  x = Dense(20, activation= act_f)(encoded)\n",
        "  x = LeakyReLU(alpha=0.3)(x)\n",
        "  x = Dense(169, activation= act_f)(x)\n",
        "  x = LeakyReLU(alpha=0.3)(x)\n",
        "  x = Reshape((13, 13, 1))(x)\n",
        "\n",
        "  x = layers.Conv2D(16, (10, 10), activation= act_f, padding='same')(x)\n",
        "  x = layers.UpSampling2D((2, 2))(x)\n",
        "  x = layers.Conv2D(16, (10, 10), activation= act_f, padding='same')(x)\n",
        "  x = layers.UpSampling2D((2, 2))(x)\n",
        "  x = layers.Conv2D(32, (10, 10), activation= act_f, padding='same')(x)\n",
        "  x = layers.UpSampling2D((2, 2))(x)\n",
        "\n",
        "  decoded = layers.Conv2D(1, (5, 5), activation='sigmoid', padding='same')(x) # try\n",
        "  return decoded\n"
      ],
      "metadata": {
        "id": "yi8Bm-5Ckq91"
      },
      "execution_count": null,
      "outputs": []
    },
    {
      "cell_type": "code",
      "source": [
        "# input shape\n",
        "input_img = keras.Input(shape=(100, 100, 1))\n",
        "# for the encoeded data\n",
        "encoded = my_encoder_model(input_img)\n",
        "print(encoded.shape)\n",
        "\n",
        "decoded = my_decoder_model(encoded)\n",
        "print(decoded.shape)\n",
        "\n",
        "\n",
        "# combine the encode and decode parts as autoencoder\n",
        "autoencoder = keras.Model(input_img, decoded)\n",
        "autoencoder.summary()\n",
        "autoencoder.compile(optimizer='adam', loss=\"mse\")\n",
        "\n",
        "\n",
        "layer_number = 12\n",
        "# # this model maps an input to its encoded representation\n",
        "encoder = keras.Model(input_img, encoded)\n",
        "\n",
        "# this model maps the encoded representation to the original representation\n",
        "encoded_input = Input(shape=(32,))\n",
        "decoder = autoencoder.layers[-layer_number](encoded_input)\n",
        "for i in range(layer_number-1):\n",
        "  decoder = autoencoder.layers[i-layer_number+1](decoder)\n",
        "decoder = keras.Model(encoded_input, decoder)"
      ],
      "metadata": {
        "id": "514ZvJslmjPy"
      },
      "execution_count": null,
      "outputs": []
    },
    {
      "cell_type": "code",
      "source": [
        "autoencoder.fit(tree_train, tree_train, validation_data = (X_test, y_test)\n",
        "                epochs=250,\n",
        "                batch_size=100,\n",
        "                shuffle=True)"
      ],
      "metadata": {
        "id": "R4z8t4PqnM0U"
      },
      "execution_count": null,
      "outputs": []
    },
    {
      "cell_type": "code",
      "source": [
        "autoencoder_predict_img = autoencoder.predict(X_test)\n"
      ],
      "metadata": {
        "id": "SKpWexMgkcvd"
      },
      "execution_count": null,
      "outputs": []
    },
    {
      "cell_type": "markdown",
      "source": [
        "## Encoder with training"
      ],
      "metadata": {
        "id": "2spnNdzkmv3J"
      }
    },
    {
      "cell_type": "code",
      "source": [
        "gc_5km_train = cropped_gc_5km[0:20000]\n",
        "tc_5km_train = cropped_tc_5km[0:20000]\n",
        "slope_5km_train = cropped_slope_5km[0:20000]\n",
        "\n",
        "gc_5km_test = cropped_tc_5km[20000:24000]\n",
        "tc_5km_test = cropped_tc_5km[20000:24000]\n",
        "slope_5km_test = cropped_slope_5km[20000:24000]\n",
        "\n"
      ],
      "metadata": {
        "id": "yZZqNnKDmzws"
      },
      "execution_count": null,
      "outputs": []
    },
    {
      "cell_type": "code",
      "source": [
        "def encode_vc(input_img):\n",
        "  act_f = str(\"relu\") # relu\n",
        "\n",
        "  x = layers.Conv2D(32, (10, 10), activation= act_f, padding='same')(input_img)\n",
        "  x = layers.MaxPooling2D((2, 2), padding='same')(x)\n",
        "  x = layers.Conv2D(16, (10, 10), activation= act_f, padding='same')(x)\n",
        "  x = layers.MaxPooling2D((2, 2), padding='same')(x)\n",
        "  x = layers.Conv2D(16, (10, 10), activation= act_f, padding='same')(x)\n",
        "  x = layers.MaxPooling2D((2, 2), padding='same')(x)\n",
        "\n",
        "  x = Flatten()(x)\n",
        "  x = LeakyReLU(alpha=0.3)(x)\n",
        "  x = Dense(169, activation= act_f)(x)\n",
        "  x = LeakyReLU(alpha=0.3)(x)\n",
        "  encoded = Dense(20, activation= act_f)(x)\n",
        "\n",
        "  return encoded\n",
        "\n",
        "\n",
        "def encode_slope(input_img):\n",
        "  act_f = str(\"relu\") # relu\n",
        "\n",
        "  x = layers.Conv2D(32, (10, 10), activation= act_f, padding='same')(input_img)\n",
        "  x = layers.MaxPooling2D((2, 2), padding='same')(x)\n",
        "  x = layers.Conv2D(16, (10, 10), activation= act_f, padding='same')(x)\n",
        "  x = layers.MaxPooling2D((2, 2), padding='same')(x)\n",
        "\n",
        "  x = Flatten()(x)\n",
        "  x = LeakyReLU(alpha=0.3)(x)\n",
        "  x = Dense(64, activation= act_f)(x)\n",
        "  x = LeakyReLU(alpha=0.3)(x)\n",
        "  encoded = Dense(10, activation= act_f)(x)\n",
        "\n",
        "  return encoded\n",
        "\n"
      ],
      "metadata": {
        "id": "THZR6EQAn-6z"
      },
      "execution_count": null,
      "outputs": []
    },
    {
      "cell_type": "code",
      "source": [
        "\n",
        "inputA = Input(shape=(100, 100, 1))\n",
        "inputB = Input(shape=(100, 100, 1))\n",
        "inputC = Input(shape=(30, 30, 1))\n",
        "# inputD = Input(shape=()\n",
        "# input of windu and wind v\n",
        " \n",
        "# the first branch operates on the first input\n",
        "x = encode_vc(inputA)\n",
        " \n",
        "# the second branch opreates on the second input\n",
        "x2 = encode_vc(inputB)\n",
        "\n",
        "x3 = encode_slope(inputC)\n",
        " \n",
        "# combine the output of the two branches\n",
        "combined = Concatenate(axis=1)([x, x2, x3])\n",
        "# print(combined.shape)\n",
        "# apply a FC layer and then a regression prediction on the\n",
        "# combined outputs\n",
        "z = Dense(50, activation=\"relu\")(combined)\n",
        "z = Dense(1, activation=\"linear\")(z)\n",
        "\n",
        "# our model will accept the inputs of the two branches and\n",
        "# then output a single value\n",
        "CNN_model = keras.Model(inputs=[inputA, inputB, inputC], outputs=z)\n",
        "CNN_model.summary()\n",
        "CNN_model.compile(optimizer = 'adam', loss = 'mse') \n",
        "# try sgd, and diff lr\n"
      ],
      "metadata": {
        "id": "lPR071wjn993"
      },
      "execution_count": null,
      "outputs": []
    },
    {
      "cell_type": "code",
      "source": [
        "CNN_model.fit((gc_5km_train, tc_5km_train, slope_5km_train), y_train, validation_data = ((gc_5km_test, tc_5km_test, slope_5km_test), y_test), epochs = 20, batch_size = 256)"
      ],
      "metadata": {
        "id": "P_0oaLPdm1NN"
      },
      "execution_count": null,
      "outputs": []
    },
    {
      "cell_type": "code",
      "source": [
        "model_predict = CNN_model.predict((gc_5km_test, tc_5km_tes))"
      ],
      "metadata": {
        "id": "ti4R7ZhJm2QZ"
      },
      "execution_count": null,
      "outputs": []
    },
    {
      "cell_type": "markdown",
      "source": [
        "## Train Encoder first"
      ],
      "metadata": {
        "id": "lBMzLO6TnYt4"
      }
    },
    {
      "cell_type": "code",
      "source": [
        "# gc_5km_train = cropped_gc_5km[0:20000]\n",
        "# tc_5km_train = cropped_tc_5km[0:20000]\n",
        "# slope_5km_train = cropped_slope_5km[0:20000]\n",
        "\n",
        "# gc_5km_test = cropped_tc_5km[20000:24000]\n",
        "# tc_5km_test = cropped_tc_5km[20000:24000]\n",
        "# slope_5km_test = cropped_slope_5km[20000:24000]"
      ],
      "metadata": {
        "id": "QNzpDv66t_pj"
      },
      "execution_count": null,
      "outputs": []
    },
    {
      "cell_type": "code",
      "source": [
        "def my_encoder_model(input_img):\n",
        "  act_f = str(\"relu\") # relu\n",
        "\n",
        "  x = layers.Conv2D(32, (10, 10), activation= act_f, padding='same')(input_img)\n",
        "  x = layers.MaxPooling2D((2, 2), padding='same')(x)\n",
        "  x = layers.Conv2D(16, (10, 10), activation= act_f, padding='same')(x)\n",
        "  x = layers.MaxPooling2D((2, 2), padding='same')(x)\n",
        "  x = layers.Conv2D(16, (10, 10), activation= act_f, padding='same')(x)\n",
        "  x = layers.MaxPooling2D((2, 2), padding='same')(x)\n",
        "\n",
        "  x = Flatten()(x)\n",
        "  x = LeakyReLU(alpha=0.3)(x)\n",
        "  x = Dense(169, activation= act_f)(x)\n",
        "  x = LeakyReLU(alpha=0.3)(x)\n",
        "  encoded = Dense(20, activation= act_f)(x)\n",
        "\n",
        "  return encoded\n",
        "\n",
        "def my_decoder_model(encoded):\n",
        "  act_f = str(\"relu\") # relu\n",
        "\n",
        "  x = Dense(20, activation= act_f)(encoded)\n",
        "  x = LeakyReLU(alpha=0.3)(x)\n",
        "  x = Dense(169, activation= act_f)(x)\n",
        "  x = LeakyReLU(alpha=0.3)(x)\n",
        "  x = Reshape((13, 13, 1))(x)\n",
        "\n",
        "  x = layers.Conv2D(16, (10, 10), activation= act_f, padding='same')(x)\n",
        "  x = layers.UpSampling2D((2, 2))(x)\n",
        "  x = layers.Conv2D(16, (10, 10), activation= act_f, padding='same')(x)\n",
        "  x = layers.UpSampling2D((2, 2))(x)\n",
        "  x = layers.Conv2D(32, (10, 10), activation= act_f, padding='same')(x)\n",
        "  x = layers.UpSampling2D((2, 2))(x)\n",
        "\n",
        "  decoded = layers.Conv2D(1, (5, 5), activation='sigmoid', padding='same')(x) # try\n",
        "  return decoded"
      ],
      "metadata": {
        "id": "sRHcETxcn6dJ"
      },
      "execution_count": null,
      "outputs": []
    },
    {
      "cell_type": "code",
      "source": [
        " # input shape\n",
        "  input_img = keras.Input(shape=(100, 100, 1))\n",
        "  # for the encoeded data\n",
        "  encoded = my_encoder_model(input_img)\n",
        "  print(encoded.shape)\n",
        "\n",
        "  decoded = my_decoder_model(encoded)\n",
        "  print(decoded.shape)\n",
        "\n",
        "\n",
        "  # combine the encode and decode parts as autoencoder\n",
        "  autoencoder = keras.Model(input_img, decoded)\n",
        "  autoencoder.summary()\n",
        "  autoencoder.compile(optimizer='adam', loss=\"mse\")\n",
        "\n",
        "\n",
        "  layer_number = 12\n",
        "  # # this model maps an input to its encoded representation\n",
        "  encoder = keras.Model(input_img, encoded)\n",
        "\n",
        "  # this model maps the encoded representation to the original representation\n",
        "  encoded_input = Input(shape=(32,))\n",
        "  decoder = autoencoder.layers[-layer_number](encoded_input)\n",
        "  for i in range(layer_number-1):\n",
        "    decoder = autoencoder.layers[i-layer_number+1](decoder)\n",
        "  decoder = keras.Model(encoded_input, decoder)\n"
      ],
      "metadata": {
        "id": "eGUBpx6AtXD6"
      },
      "execution_count": null,
      "outputs": []
    },
    {
      "cell_type": "code",
      "source": [
        "autoencoder.fit(tree_train, tree_train,\n",
        "                epochs=250,\n",
        "                batch_size=100,\n",
        "                shuffle=True)"
      ],
      "metadata": {
        "id": "FYT7OGZds0qC"
      },
      "execution_count": null,
      "outputs": []
    },
    {
      "cell_type": "code",
      "source": [
        "# save model"
      ],
      "metadata": {
        "id": "P4xDZguVt5xg"
      },
      "execution_count": null,
      "outputs": []
    },
    {
      "cell_type": "code",
      "source": [
        "autoencoder.fit(tree_train, tree_train,\n",
        "                epochs=250,\n",
        "                batch_size=100,\n",
        "                shuffle=True)"
      ],
      "metadata": {
        "id": "yJwajhmWt-Av"
      },
      "execution_count": null,
      "outputs": []
    },
    {
      "cell_type": "markdown",
      "source": [
        "## Traditional CNN"
      ],
      "metadata": {
        "id": "ljYesAstpomC"
      }
    },
    {
      "cell_type": "markdown",
      "source": [
        "Setup train and test set"
      ],
      "metadata": {
        "id": "assdMgVaqDIy"
      }
    },
    {
      "cell_type": "code",
      "source": [
        "X_train_model3 = resized_combined_5km_3channel[0:20000]\n",
        "X_test_model3 = resized_combined_5km_3channel[20000:24000]\n",
        "\n"
      ],
      "metadata": {
        "id": "JLLRKQcVqCYj"
      },
      "execution_count": null,
      "outputs": []
    },
    {
      "cell_type": "markdown",
      "source": [
        "Build Model"
      ],
      "metadata": {
        "id": "1ZavK8sRqHu_"
      }
    },
    {
      "cell_type": "code",
      "source": [
        "CNN_ori = Sequential()\n",
        "# input = Input(shape=(100, 100, 3))\n",
        "CNN_ori.add(layers.Conv2D(32, kernel_size=(3, 3),\n",
        "                 activation='relu',\n",
        "                 input_shape=(100, 100, 3)))\n",
        "CNN_ori.add(layers.Conv2D(64, (3, 3), activation='relu')) \n",
        "CNN_ori.add(layers.MaxPooling2D(pool_size=(2, 2)))\n",
        "CNN_ori.add(layers.Dropout(0.25))\n",
        "CNN_ori.add(layers.MaxPooling2D(pool_size=(2, 2)))\n",
        "CNN_ori.add(Flatten()) \n",
        "CNN_ori.add(Dense(128, activation='linear'))\n",
        "CNN_ori.add(LeakyReLU(alpha=0.2))\n",
        "CNN_ori.add(layers.Dropout(0.5))\n",
        "CNN_ori.add(Dense(1, activation='linear'))\n",
        "# optimizer = tf.keras.optimizers.Adam(0.001)\n",
        "# optimizer.learning_rate.assign(0.01)\n",
        "# print(optimizer.learning_rate)\n",
        "# CNN_ori_model = keras.Model(inputs= input, outputs=z)\n",
        "CNN_ori.summary()\n",
        "CNN_ori.compile(optimizer = 'adam', loss = 'mse') "
      ],
      "metadata": {
        "id": "XCDev9oep0az"
      },
      "execution_count": null,
      "outputs": []
    },
    {
      "cell_type": "code",
      "source": [
        "tf.config.run_functions_eagerly(True)"
      ],
      "metadata": {
        "id": "gJ-be4kIp6Ba"
      },
      "execution_count": null,
      "outputs": []
    },
    {
      "cell_type": "code",
      "source": [
        "CNN_ori.fit(X_train,y_train, validation_data=(X_test, y_test),epochs=20, batch_size=128)"
      ],
      "metadata": {
        "id": "eIjdrvWhp7hG"
      },
      "execution_count": null,
      "outputs": []
    },
    {
      "cell_type": "code",
      "source": [
        "model_predict_3 = CNN_ori.predict(X_test)"
      ],
      "metadata": {
        "id": "sfo20NTSuVo_"
      },
      "execution_count": null,
      "outputs": []
    },
    {
      "cell_type": "markdown",
      "source": [
        "# Part6. Result Plot"
      ],
      "metadata": {
        "id": "eYEyA9amoJ_Z"
      }
    },
    {
      "cell_type": "code",
      "source": [
        "import matplotlib.pyplot as plt\n",
        "import torch\n",
        "import torch.nn as nn\n",
        "import torch.nn.functional as F\n",
        "import os\n",
        "import random\n",
        "import numpy as np\n",
        "from tqdm.notebook import tqdm\n",
        "from torchvision import datasets, transforms, models \n",
        "from torchvision.datasets import ImageFolder\n",
        "from torchvision.transforms import ToTensor\n",
        "from torchvision.utils import make_grid\n",
        "from torch.utils.data import random_split\n",
        "from torch.utils.data.dataloader import DataLoader\n",
        "import matplotlib.pyplot as plt\n",
        "import matplotlib.image as mpimage\n",
        "from tqdm import tqdm\n",
        "from PIL import Image\n",
        "import cv2\n",
        "import pandas as pd\n",
        "\n",
        "import keras\n",
        "from keras import layers\n",
        "from keras.callbacks import TensorBoard\n",
        "from sklearn.decomposition import PCA\n",
        "from sklearn.metrics import mean_squared_error, r2_score\n",
        "from keras.layers import Input, Dense, Flatten, Reshape, LeakyReLU, Resizing, Cropping2D\n",
        "from keras.models import Model\n",
        "from numpy import array\n",
        "from numpy import hstack\n",
        "from keras.layers import LSTM\n",
        "from keras.layers import Input, Dense\n",
        "from keras import losses\n",
        "import tensorflow as tf\n",
        "from keras.layers import Concatenate\n",
        "from keras.models import Sequential\n",
        "from sklearn.model_selection import GridSearchCV"
      ],
      "metadata": {
        "id": "V-ju687yoLUl"
      },
      "execution_count": 1,
      "outputs": []
    },
    {
      "cell_type": "code",
      "source": [
        "def Standrize(X):\n",
        "  # X = (X-X.mean())/X.std()\n",
        "  # X = X/X.max()\n",
        "  X = (X - X.min())/(X.max() - X.min())\n",
        "  return X\n",
        "\n",
        "# reshape data into reasonable size for training. \n",
        "def data_reshaping(df,sizex,sizey):\n",
        "  train_data = []\n",
        "  test_data = []\n",
        "  n = 24000\n",
        "  index = 19120\n",
        "  for i in range(index):\n",
        "    train_data.append(df[i])\n",
        "  for i in range(index, n):\n",
        "    test_data.append(df[i])\n",
        "  train_data = np.array(train_data)\n",
        "  train_data = Standrize(train_data)\n",
        "  train_data = np.reshape(train_data, (index, sizex, sizey, 1))\n",
        "  test_data = np.array(test_data)\n",
        "  test_data = Standrize(test_data)\n",
        "  test_data = np.reshape(test_data, ((n-index), sizex, sizey, 1))\n",
        "  return train_data, test_data\n"
      ],
      "metadata": {
        "id": "fyptj0dlhany"
      },
      "execution_count": 2,
      "outputs": []
    },
    {
      "cell_type": "code",
      "source": [
        "from google.colab import drive\n",
        "drive.mount('/content/drive')"
      ],
      "metadata": {
        "colab": {
          "base_uri": "https://localhost:8080/"
        },
        "id": "lebL3HRYhgwu",
        "outputId": "fed940c2-7c24-4e6b-baff-8da675ff351a"
      },
      "execution_count": 3,
      "outputs": [
        {
          "output_type": "stream",
          "name": "stdout",
          "text": [
            "Mounted at /content/drive\n"
          ]
        }
      ]
    },
    {
      "cell_type": "code",
      "source": [
        "device = 'cpu'\n",
        "if torch.cuda.device_count() > 0 and torch.cuda.is_available():\n",
        "    print(\"Cuda installed! Running on GPU!\")\n",
        "    device = 'cuda'\n",
        "else:\n",
        "    print(\"No GPU available!\")\n",
        "    "
      ],
      "metadata": {
        "colab": {
          "base_uri": "https://localhost:8080/"
        },
        "id": "m9fhsY-FhkGU",
        "outputId": "4b7e0a2a-ad21-48b4-d91c-1bd11dfda1c8"
      },
      "execution_count": 4,
      "outputs": [
        {
          "output_type": "stream",
          "name": "stdout",
          "text": [
            "No GPU available!\n"
          ]
        }
      ]
    },
    {
      "cell_type": "code",
      "source": [
        "# load required data\n",
        "duration = np.load('drive/MyDrive/New_Wildfire/Newdata/duration_atlas_2003_2016.npy')\n",
        "gc_5km_dataset = np.load('drive/MyDrive/New_Wildfire/Newdata/ls_grass_cover_5km.npy')\n",
        "tc_5km_dataset = np.load('drive/MyDrive/New_Wildfire/Newdata/ls_tree_cover_5km.npy')\n",
        "slope_5km_dataset = np.load('drive/MyDrive/New_Wildfire/Newdata/ls_slope_5km.npy')\n",
        "# data reshaping\n",
        "gc_5km_train, gc_5km_test = data_reshaping(gc_5km_dataset, 100, 100)\n",
        "tc_5km_train, tc_5km_test = data_reshaping(tc_5km_dataset, 100, 100)\n",
        "slope_5km_train, slope_5km_test = data_reshaping(slope_5km_dataset, 30, 30)\n",
        "gc_5km_train, gc_5km_test, tc_5km_train, tc_5km_test, slope_5km_train, slope_5km_test = Standrize(gc_5km_train), Standrize(gc_5km_test), Standrize(tc_5km_train), Standrize(tc_5km_test), Standrize(slope_5km_train), Standrize(slope_5km_test)\n",
        "y_train = duration[0:19120]\n",
        "y_test = duration[19120:24000]\n",
        "\n"
      ],
      "metadata": {
        "id": "-XAuhG5qhmAy"
      },
      "execution_count": 5,
      "outputs": []
    },
    {
      "cell_type": "code",
      "source": [
        "del gc_5km_dataset, tc_5km_dataset, slope_5km_dataset"
      ],
      "metadata": {
        "id": "9WQKo_21jj-o"
      },
      "execution_count": null,
      "outputs": []
    },
    {
      "cell_type": "code",
      "source": [
        "# load our model \n",
        "from keras.models import load_model\n",
        "CNN_Encoder_model = load_model('/content/drive/MyDrive/New_Wildfire/models/encode_inside_CNN_three_feature.h5')\n"
      ],
      "metadata": {
        "id": "09sju3AHhsmR"
      },
      "execution_count": 6,
      "outputs": []
    },
    {
      "cell_type": "code",
      "source": [
        "# plot\n",
        "y_pred = CNN_Encoder_model.predict((gc_5km_test, tc_5km_test, slope_5km_test))\n",
        "plt.plot(y_test, y_test, linewidth = 2.5, zorder = 2)\n",
        "plt.plot(y_pred, y_test, 'ro', zorder = 1)\n",
        "plt.xlabel('Predict Value', fontsize = 15)\n",
        "plt.grid(ls='--')\n",
        "plt.ylabel('True Value', fontsize = 15)\n",
        "plt.title('Encoder-Based CNN', fontsize = 15)\n",
        "plt.savefig('drive/MyDrive/sr_fig/Prediction_Plot_Encoder.png', dpi = 500)\n",
        "plt.show()\n",
        "print(r2_score(y_test,y_pred))\n",
        "print(mean_squared_error(y_test, y_pred))\n",
        "\n",
        "prob = []\n",
        "i_ = []\n",
        "total = len(y_test)\n",
        "for i in range(30):\n",
        "  count = 0\n",
        "  for j in range(len(y_test)):\n",
        "    if y_test[j] >=i and y_pred[j] >= i:\n",
        "      count += 1\n",
        "    if y_test[j] <=i and y_pred[j] <= i:\n",
        "      count += 1\n",
        "  prob_i = count/total\n",
        "  prob.append(prob_i)\n",
        "  i_.append(i)\n",
        "print(min(prob))\n",
        "plt.plot(i_, prob)\n",
        "plt.grid(ls='--')\n",
        "plt.ylabel('Accuracy', fontsize = 15)\n",
        "plt.xlabel('Days', fontsize = 15)\n",
        "plt.ylim(0.5, 1)\n",
        "plt.title('Encoder-Based CNN', fontsize = 15)\n",
        "plt.savefig('drive/MyDrive/sr_fig/Accuracy_Plot_Encoder.png', dpi = 500)\n",
        "\n",
        "mse = []\n",
        "for i in range(4000):\n",
        "  mse.append(np.linalg.norm((y_test[i] - y_pred[i]))/np.linalg.norm(y_pred[i]))\n",
        "\n",
        "print(np.mean(mse), 'mean value')\n"
      ],
      "metadata": {
        "colab": {
          "base_uri": "https://localhost:8080/",
          "height": 656
        },
        "id": "RBdtn9iphwcH",
        "outputId": "af2bc6b9-2a09-41bb-a096-8ebc5d256a84"
      },
      "execution_count": 7,
      "outputs": [
        {
          "output_type": "display_data",
          "data": {
            "text/plain": [
              "<Figure size 432x288 with 1 Axes>"
            ],
            "image/png": "[encoded data removed]"
          },
          "metadata": {
            "needs_background": "light"
          }
        },
        {
          "output_type": "stream",
          "name": "stdout",
          "text": [
            "0.005221365489178287\n",
            "26.727999568970006\n",
            "0.6301229508196722\n",
            "2.5372221 mean value\n"
          ]
        },
        {
          "output_type": "display_data",
          "data": {
            "text/plain": [
              "<Figure size 432x288 with 1 Axes>"
            ],
            "image/png": "[encoded data removed]"
          },
          "metadata": {
            "needs_background": "light"
          }
        }
      ]
    },
    {
      "cell_type": "code",
      "source": [
        "print(mean_squared_error(y_test, y_pred))"
      ],
      "metadata": {
        "colab": {
          "base_uri": "https://localhost:8080/"
        },
        "id": "yY8fzZfultJr",
        "outputId": "8a76af48-3db8-4629-8c65-d51af1bbf65b"
      },
      "execution_count": null,
      "outputs": [
        {
          "output_type": "stream",
          "name": "stdout",
          "text": [
            "26.727999568970006\n"
          ]
        }
      ]
    },
    {
      "cell_type": "code",
      "source": [
        "from keras.models import load_model\n",
        "CNN_ori = load_model('/content/drive/MyDrive/New_Wildfire/models/traditional_CNN_three_layers_size100.h5')\n"
      ],
      "metadata": {
        "id": "x62mibpIh_ir"
      },
      "execution_count": null,
      "outputs": []
    },
    {
      "cell_type": "code",
      "source": [
        "del gc_5km_train, gc_5km_test, tc_5km_train, tc_5km_test, slope_5km_train, slope_5km_test"
      ],
      "metadata": {
        "id": "NfHdM9aVl8_j"
      },
      "execution_count": null,
      "outputs": []
    },
    {
      "cell_type": "code",
      "source": [
        "\n",
        "comb_data = np.load('drive/MyDrive/New_Wildfire/Model_Input/CNN_ori_input_size100_123.npy')\n",
        "index = 19120\n",
        "n = 24000\n",
        "X_train = comb_data[0:index]\n",
        "X_test = comb_data[index:24000]\n",
        "X_train = Standrize(X_train)\n",
        "X_test = Standrize(X_test)"
      ],
      "metadata": {
        "id": "i2e3_AwtkfQg"
      },
      "execution_count": null,
      "outputs": []
    },
    {
      "cell_type": "code",
      "source": [
        "# y_pred = CNN_ori.predict(X_test)\n",
        "plt.plot(y_test, y_test, linewidth = 2.5, zorder = 2)\n",
        "mse = mean_squared_error(y_test, y_pred)\n",
        "plt.plot(y_pred, y_test, 'ro', zorder = 1)\n",
        "plt.xlabel('Predicted value', fontsize = 15)\n",
        "plt.ylabel('label value', fontsize = 15)\n",
        "plt.grid(ls='--')\n",
        "plt.title('Multi-layer CNN', fontsize = 15)\n",
        "plt.savefig('drive/MyDrive/sr_fig/Prediction_Plot_Mutil_CNN.png', dpi = 500)\n",
        "plt.show()\n",
        "print(r2_score(y_test,y_pred))\n",
        "\n",
        "\n",
        "prob = []\n",
        "i_ = []\n",
        "total = len(y_test)\n",
        "for i in range(30):\n",
        "  count = 0\n",
        "  for j in range(len(y_test)):\n",
        "    if y_test[j] >=i and y_pred[j] >= i:\n",
        "      count += 1\n",
        "    if y_test[j] <=i and y_pred[j] <= i:\n",
        "      count += 1\n",
        "  prob_i = count/total\n",
        "  prob.append(prob_i)\n",
        "  i_.append(i)\n",
        "print(min(prob))\n",
        "plt.plot(i_, prob)\n",
        "plt.grid(ls='--')\n",
        "plt.ylabel('Accuracy', fontsize = 15)\n",
        "plt.xlabel('Days', fontsize = 15)\n",
        "plt.ylim(0.5, 1)\n",
        "plt.title('Multi-Layer CNN', fontsize = 15)\n",
        "plt.savefig('drive/MyDrive/sr_fig/Accuracy_Plot_Multi_CNN.png', dpi = 500)\n",
        "\n",
        "\n",
        "y_pred = CNN_ori.predict(X_test)\n",
        "mse = []\n",
        "for i in range(4000):\n",
        "  mse.append(np.linalg.norm((y_test[i] - y_pred[i]))/np.linalg.norm(y_pred[i]))\n",
        "\n",
        "print(np.mean(mse), 'mean value')"
      ],
      "metadata": {
        "colab": {
          "base_uri": "https://localhost:8080/",
          "height": 639
        },
        "id": "HRDhfV9xiD5K",
        "outputId": "7e7f077d-e584-4be3-c1c7-0add3b150275"
      },
      "execution_count": null,
      "outputs": [
        {
          "output_type": "display_data",
          "data": {
            "text/plain": [
              "<Figure size 432x288 with 1 Axes>"
            ],
            "image/png": "[encoded data removed]"
          },
          "metadata": {
            "needs_background": "light"
          }
        },
        {
          "output_type": "stream",
          "name": "stdout",
          "text": [
            "0.050613006044496145\n",
            "0.6297131147540984\n",
            "0.9890095 mean value\n"
          ]
        },
        {
          "output_type": "display_data",
          "data": {
            "text/plain": [
              "<Figure size 432x288 with 1 Axes>"
            ],
            "image/png": "[encoded data removed]"
          },
          "metadata": {
            "needs_background": "light"
          }
        }
      ]
    },
    {
      "cell_type": "code",
      "source": [],
      "metadata": {
        "id": "CpVgrEiBmDiW"
      },
      "execution_count": null,
      "outputs": []
    }
  ]
}